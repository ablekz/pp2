{
 "cells": [
  {
   "cell_type": "markdown",
   "metadata": {},
   "source": [
    "#### 1. [Multiply Numbers from List]()"
   ]
  },
  {
   "cell_type": "code",
   "execution_count": 1,
   "metadata": {},
   "outputs": [
    {
     "name": "stdout",
     "output_type": "stream",
     "text": [
      "720\n"
     ]
    }
   ],
   "source": [
    "def multiply(nums: list[float]) -> float:\n",
    "    res = 1\n",
    "    for _ in nums: res *= _\n",
    "    return res\n",
    "\n",
    "lst = [ 1, 2, 3, 4, 5, 6]\n",
    "print(multiply(lst))"
   ]
  },
  {
   "cell_type": "markdown",
   "metadata": {},
   "source": [
    "#### 2. [Upper and Lower Case Letters in String]()"
   ]
  },
  {
   "cell_type": "code",
   "execution_count": 2,
   "metadata": {},
   "outputs": [
    {
     "name": "stdout",
     "output_type": "stream",
     "text": [
      "{'upper': 13, 'lower': 56}\n"
     ]
    }
   ],
   "source": [
    "def cases(string: str) -> dict:\n",
    "    return {'upper': len([_ for _ in string if _.isupper()]), \n",
    "            'lower': len([_ for _ in string if _.islower()])}\n",
    "    \n",
    "string = 'Ullamco Ex doLOre consECtetur fugiat aliQUIp esse culpa eIUsmod offICia ullamco.'\n",
    "print(cases(string))"
   ]
  },
  {
   "cell_type": "markdown",
   "metadata": {},
   "source": [
    "#### 3. [Polindrome or not ?]()"
   ]
  },
  {
   "cell_type": "code",
   "execution_count": 3,
   "metadata": {},
   "outputs": [
    {
     "name": "stdout",
     "output_type": "stream",
     "text": [
      "True\n"
     ]
    }
   ],
   "source": [
    "def is_polindrome(string: str) -> bool:\n",
    "    return True if string ==  ''.join(reversed(string)) else False\n",
    "\n",
    "string = \"madam\"\n",
    "print(is_polindrome(string))"
   ]
  },
  {
   "cell_type": "markdown",
   "metadata": {},
   "source": [
    "#### 4. [Square Root after `X` miliseconds]()"
   ]
  },
  {
   "cell_type": "code",
   "execution_count": 4,
   "metadata": {},
   "outputs": [],
   "source": [
    "import time"
   ]
  },
  {
   "cell_type": "code",
   "execution_count": 5,
   "metadata": {},
   "outputs": [],
   "source": [
    "input = 25100, 2123"
   ]
  },
  {
   "cell_type": "code",
   "execution_count": 6,
   "metadata": {},
   "outputs": [
    {
     "name": "stdout",
     "output_type": "stream",
     "text": [
      "Square root of 25100 after 2123 miliseconds is 158.42979517754858\n"
     ]
    }
   ],
   "source": [
    "def sqrt_delay(num: float, delay: float) -> float:\n",
    "    time.sleep(delay / 1000)\n",
    "    return num ** (1/2)\n",
    "\n",
    "print(f\"Square root of {input[0]} after {input[1]} miliseconds is {sqrt_delay(*input)}\")"
   ]
  },
  {
   "cell_type": "markdown",
   "metadata": {},
   "source": [
    "#### 5. [All Elements of Tuple are True ?]()"
   ]
  },
  {
   "cell_type": "code",
   "execution_count": 7,
   "metadata": {},
   "outputs": [
    {
     "name": "stdout",
     "output_type": "stream",
     "text": [
      "True\n",
      "False\n"
     ]
    }
   ],
   "source": [
    "def all_true(tup: tuple) -> bool:\n",
    "    return all(tup)\n",
    "\n",
    "tuples = (True, 1, \"Str\"), (False, 1, \"Str\")\n",
    "for _ in tuples: print(all_true(_))"
   ]
  }
 ],
 "metadata": {
  "kernelspec": {
   "display_name": "Python 3",
   "language": "python",
   "name": "python3"
  },
  "language_info": {
   "codemirror_mode": {
    "name": "ipython",
    "version": 3
   },
   "file_extension": ".py",
   "mimetype": "text/x-python",
   "name": "python",
   "nbconvert_exporter": "python",
   "pygments_lexer": "ipython3",
   "version": "3.13.1"
  }
 },
 "nbformat": 4,
 "nbformat_minor": 2
}
