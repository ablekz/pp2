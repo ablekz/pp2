{
 "cells": [
  {
   "cell_type": "code",
   "execution_count": 36,
   "metadata": {},
   "outputs": [],
   "source": [
    "from datetime import datetime, timedelta"
   ]
  },
  {
   "cell_type": "markdown",
   "metadata": {},
   "source": [
    "#### 1. [Subtract `5 days` from Current Date]()"
   ]
  },
  {
   "cell_type": "code",
   "execution_count": 37,
   "metadata": {},
   "outputs": [
    {
     "name": "stdout",
     "output_type": "stream",
     "text": [
      "2025-01-25\n"
     ]
    }
   ],
   "source": [
    "def subtract_days() -> datetime:\n",
    "    return datetime.now().date() - timedelta(days = 5)\n",
    "\n",
    "print(subtract_days())"
   ]
  },
  {
   "cell_type": "markdown",
   "metadata": {},
   "source": [
    "#### 2. [Yersteday, Today, Tomorrow]()"
   ]
  },
  {
   "cell_type": "code",
   "execution_count": 38,
   "metadata": {},
   "outputs": [
    {
     "name": "stdout",
     "output_type": "stream",
     "text": [
      "Yersteday: 2025-01-29\n",
      "Today:     2025-01-30\n",
      "Tomorrow:  2025-01-31\n"
     ]
    }
   ],
   "source": [
    "def yer_tod_tom() -> tuple[datetime]:\n",
    "    today, delta = datetime.now().date(), timedelta(days = 1)\n",
    "    return today - delta, today, today + delta\n",
    "\n",
    "dates = yer_tod_tom()\n",
    "print(f\"Yersteday: {dates[0]}\\nToday:     {dates[1]}\\nTomorrow:  {dates[2]}\")"
   ]
  },
  {
   "cell_type": "markdown",
   "metadata": {},
   "source": [
    "#### 3. [Drop Microseconds]()"
   ]
  },
  {
   "cell_type": "code",
   "execution_count": 39,
   "metadata": {},
   "outputs": [
    {
     "name": "stdout",
     "output_type": "stream",
     "text": [
      "2025-01-30 08:36:03\n"
     ]
    }
   ],
   "source": [
    "def drop_ms() -> datetime:\n",
    "    return datetime.now().replace(microsecond = 0)\n",
    "\n",
    "print(drop_ms())"
   ]
  },
  {
   "cell_type": "markdown",
   "metadata": {},
   "source": [
    "#### 4. [Date Difference in Seconds]()"
   ]
  },
  {
   "cell_type": "code",
   "execution_count": 40,
   "metadata": {},
   "outputs": [
    {
     "name": "stdout",
     "output_type": "stream",
     "text": [
      "31363170.0\n"
     ]
    }
   ],
   "source": [
    "def date_diff(date_a: datetime, date_b: datetime) -> float:\n",
    "    return abs((date_a - date_b).total_seconds())\n",
    "\n",
    "some_dates = datetime(2024, 1, 1, 0, 0, 0), datetime(2024, 12, 28, 23, 59, 30)\n",
    "\n",
    "print(f\"{date_diff(*some_dates)}\")"
   ]
  }
 ],
 "metadata": {
  "kernelspec": {
   "display_name": "Python 3",
   "language": "python",
   "name": "python3"
  },
  "language_info": {
   "codemirror_mode": {
    "name": "ipython",
    "version": 3
   },
   "file_extension": ".py",
   "mimetype": "text/x-python",
   "name": "python",
   "nbconvert_exporter": "python",
   "pygments_lexer": "ipython3",
   "version": "3.13.1"
  }
 },
 "nbformat": 4,
 "nbformat_minor": 2
}
