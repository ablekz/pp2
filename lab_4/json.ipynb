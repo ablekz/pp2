{
 "cells": [
  {
   "cell_type": "markdown",
   "metadata": {},
   "source": [
    "#### 1. [JSON. Parse data]()"
   ]
  },
  {
   "cell_type": "code",
   "execution_count": 117,
   "metadata": {},
   "outputs": [],
   "source": [
    "import json"
   ]
  },
  {
   "cell_type": "code",
   "execution_count": 118,
   "metadata": {},
   "outputs": [],
   "source": [
    "def parse_json(path: str) -> None:\n",
    "    print(    \n",
    "'''Interface Status\n",
    "=====================================================================================\n",
    "DN                                              Description            Speed    MTU  \n",
    "----------------------------------------------- --------------------  -------  ------''')\n",
    "    \n",
    "    with open(path, \"r\") as file:\n",
    "        data = json.load(file)\n",
    "        \n",
    "    for item in data[\"imdata\"]:\n",
    "        attr = item[\"l1PhysIf\"][\"attributes\"]\n",
    "        print(f\"{attr[\"dn\"]}                   {attr[\"descr\"]}         {attr[\"speed\"]}   {attr[\"mtu\"]}\")"
   ]
  },
  {
   "cell_type": "code",
   "execution_count": 119,
   "metadata": {},
   "outputs": [
    {
     "name": "stdout",
     "output_type": "stream",
     "text": [
      "Interface Status\n",
      "=====================================================================================\n",
      "DN                                              Description            Speed    MTU  \n",
      "----------------------------------------------- --------------------  -------  ------\n",
      "topology/pod-1/node-201/sys/phys-[eth1/33]                            inherit   9150\n",
      "topology/pod-1/node-201/sys/phys-[eth1/34]                            inherit   9150\n",
      "topology/pod-1/node-201/sys/phys-[eth1/35]                            inherit   9150\n",
      "topology/pod-1/node-201/sys/phys-[eth1/36]                            inherit   9150\n",
      "topology/pod-1/node-201/sys/phys-[eth1/1]                            inherit   9150\n",
      "topology/pod-1/node-201/sys/phys-[eth1/2]                            inherit   9150\n",
      "topology/pod-1/node-201/sys/phys-[eth1/3]                            inherit   9150\n",
      "topology/pod-1/node-201/sys/phys-[eth1/4]                            inherit   9150\n",
      "topology/pod-1/node-201/sys/phys-[eth1/5]                            inherit   9150\n",
      "topology/pod-1/node-201/sys/phys-[eth1/6]                            inherit   9150\n",
      "topology/pod-1/node-201/sys/phys-[eth1/7]                            inherit   9150\n",
      "topology/pod-1/node-201/sys/phys-[eth1/8]                            inherit   9150\n",
      "topology/pod-1/node-201/sys/phys-[eth1/9]                            inherit   9150\n",
      "topology/pod-1/node-201/sys/phys-[eth1/10]                            inherit   9150\n",
      "topology/pod-1/node-201/sys/phys-[eth1/11]                            inherit   9150\n",
      "topology/pod-1/node-201/sys/phys-[eth1/12]                            inherit   9150\n",
      "topology/pod-1/node-201/sys/phys-[eth1/13]                            inherit   9150\n",
      "topology/pod-1/node-201/sys/phys-[eth1/14]                            inherit   9150\n"
     ]
    }
   ],
   "source": [
    "parse_json(\"./sample-data.json\")"
   ]
  }
 ],
 "metadata": {
  "language_info": {
   "name": "python"
  }
 },
 "nbformat": 4,
 "nbformat_minor": 2
}
