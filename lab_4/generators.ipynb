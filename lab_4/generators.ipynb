{
 "cells": [
  {
   "cell_type": "markdown",
   "metadata": {},
   "source": [
    "#### 1. [Squares of Numbers up to `N`]()"
   ]
  },
  {
   "cell_type": "code",
   "execution_count": 1,
   "metadata": {},
   "outputs": [
    {
     "name": "stdout",
     "output_type": "stream",
     "text": [
      "[1, 4, 9, 16, 25]\n"
     ]
    }
   ],
   "source": [
    "def squares(n: int) -> list:\n",
    "    return [ n * n for n in range(1, n + 1) ]\n",
    "\n",
    "print(squares(5))"
   ]
  },
  {
   "cell_type": "markdown",
   "metadata": {},
   "source": [
    "#### 2. [Even Numbers between `0` and `N`]()"
   ]
  },
  {
   "cell_type": "code",
   "execution_count": 2,
   "metadata": {},
   "outputs": [
    {
     "name": "stdout",
     "output_type": "stream",
     "text": [
      "Evens 0 - 30:\n",
      "0, 2, 4, 6, 8, 10, 12, 14, 16, 18, 20, 22, 24, 26, 28, 30\n"
     ]
    }
   ],
   "source": [
    "def even_nums(n: int) -> list:\n",
    "    return [ f\"{n}\" for n in range(n + 1) if n % 2 == 0 ]\n",
    "\n",
    "up_to = input(\"Some number: \")\n",
    "\n",
    "while True:\n",
    "    if up_to.isdigit():\n",
    "        print(f\"Evens 0 - {up_to}:\\n{\", \".join(even_nums(int(up_to)))}\")\n",
    "        break\n",
    "    else: print(\"Invalid number\")"
   ]
  },
  {
   "cell_type": "markdown",
   "metadata": {},
   "source": [
    "#### 3. [Numbers Divisible by `3` & `4` between `0` and `N`]()"
   ]
  },
  {
   "cell_type": "code",
   "execution_count": 3,
   "metadata": {},
   "outputs": [
    {
     "name": "stdout",
     "output_type": "stream",
     "text": [
      "[0, 12, 24, 36, 48, 60, 72, 84, 96]\n"
     ]
    }
   ],
   "source": [
    "def divisible_numbers(n: int) -> list:\n",
    "    return [ n for n in range(0, n + 1) if n % 12 == 0 ]\n",
    "\n",
    "print(divisible_numbers(100))"
   ]
  },
  {
   "cell_type": "markdown",
   "metadata": {},
   "source": [
    "#### 4. [Squares of Numbers between `a` and `b`]()"
   ]
  },
  {
   "cell_type": "code",
   "execution_count": 4,
   "metadata": {},
   "outputs": [
    {
     "name": "stdout",
     "output_type": "stream",
     "text": [
      "[9, 16, 25, 36, 49, 64, 81, 100, 121]\n"
     ]
    }
   ],
   "source": [
    "def squares(a: int, b: int) -> list:\n",
    "    return [ n * n for n in range(a, b + 1) ]\n",
    "\n",
    "print(squares(3, 11))"
   ]
  },
  {
   "cell_type": "markdown",
   "metadata": {},
   "source": [
    "#### 5. [Numbers from `n` to `0`]()"
   ]
  },
  {
   "cell_type": "code",
   "execution_count": 5,
   "metadata": {},
   "outputs": [
    {
     "name": "stdout",
     "output_type": "stream",
     "text": [
      "[10, 9, 8, 7, 6, 5, 4, 3, 2, 1, 0]\n"
     ]
    }
   ],
   "source": [
    "def numbers_desc(n: int) -> list:\n",
    "    return [ n for n in range(0, n + 1) ][ ::-1 ]\n",
    "\n",
    "print(numbers_desc(10))"
   ]
  }
 ],
 "metadata": {
  "kernelspec": {
   "display_name": "Python 3",
   "language": "python",
   "name": "python3"
  },
  "language_info": {
   "codemirror_mode": {
    "name": "ipython",
    "version": 3
   },
   "file_extension": ".py",
   "mimetype": "text/x-python",
   "name": "python",
   "nbconvert_exporter": "python",
   "pygments_lexer": "ipython3",
   "version": "3.13.1"
  }
 },
 "nbformat": 4,
 "nbformat_minor": 2
}
